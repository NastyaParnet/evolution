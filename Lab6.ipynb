{
  "nbformat": 4,
  "nbformat_minor": 0,
  "metadata": {
    "colab": {
      "provenance": [],
      "authorship_tag": "ABX9TyNcjWVdtR/uqRHL51yVOQv3",
      "include_colab_link": true
    },
    "kernelspec": {
      "name": "python3",
      "display_name": "Python 3"
    },
    "language_info": {
      "name": "python"
    }
  },
  "cells": [
    {
      "cell_type": "markdown",
      "metadata": {
        "id": "view-in-github",
        "colab_type": "text"
      },
      "source": [
        "<a href=\"https://colab.research.google.com/github/NastyaParnet/evolution/blob/main/Lab6.ipynb\" target=\"_parent\"><img src=\"https://colab.research.google.com/assets/colab-badge.svg\" alt=\"Open In Colab\"/></a>"
      ]
    },
    {
      "cell_type": "code",
      "execution_count": null,
      "metadata": {
        "colab": {
          "base_uri": "https://localhost:8080/",
          "height": 612
        },
        "id": "lQ8hxFiYgTxo",
        "outputId": "4ed8e3dd-45c9-487f-e3ce-f6b74fbf689d"
      },
      "outputs": [
        {
          "output_type": "stream",
          "name": "stdout",
          "text": [
            "10/100 Current population:\n",
            "((((((x / x) * x) * ((x / x) - (((x - x) - (x / x)) / (x / x)))) - (((x / x) - x) - x)) / (x / x)) * x) = 67.77596000000003\n",
            "20/100 Current population:\n",
            "((((((x / x) * x) * ((x / x) - (((x - x) - (x / x)) / (x / x)))) - (((x / x) - x) - x)) / (x / x)) * x) = 67.77596000000003\n",
            "30/100 Current population:\n",
            "((((((x / x) * x) * ((x / x) - (x / (x * x)))) - (((x / x) - ((x - x) + (x + x))) - x)) / (x / x)) * x) = 55.18396000000003\n",
            "40/100 Current population:\n",
            "((((((x / x) * x) * ((x / x) - (x / (x * x)))) - (((x / x) - ((x - x) + (x + x))) - x)) / (x / x)) * x) = 55.18396000000003\n",
            "50/100 Current population:\n",
            "((((((x / x) * x) * ((x / x) - (x / (x * x)))) - (((x / x) - ((x - x) + (x + x))) - x)) - (x / x)) * x) = 42.591959999999986\n",
            "60/100 Current population:\n",
            "((((((x / x) * x) * ((x / x) - ((x + x) / (x * x)))) - ((((x + x) / x) - ((x - x) + (x + x))) - x)) - (x / x)) * x) = 17.407959999999996\n",
            "70/100 Current population:\n",
            "((((((x / x) * x) * ((x / x) - ((x + x) / (x * x)))) - ((((x + x) / x) - ((x - x) + (x + x))) - x)) - (x / x)) * x) = 17.407959999999996\n",
            "80/100 Current population:\n",
            "((((((x / x) * x) * ((x / x) - ((x + x) / (x * x)))) - ((((x + x) / x) - ((x - x) + (x + x))) - x)) - (x / x)) * x) = 17.407959999999996\n",
            "90/100 Current population:\n",
            "((((((x / x) * x) * ((x / x) - ((x + x) / (x * x)))) - ((((x + x) / x) - ((x - x) + (x + x))) - x)) - (x / x)) * x) = 17.407959999999996\n",
            "100/100 Current population:\n",
            "((((((x / x) * x) * ((x / x) - (((x + x) + x) / (x * x)))) - ((((x + x) / x) - ((x - x) + (x + x))) - x)) - (x / x)) * x) = 15.020039999999984\n"
          ]
        },
        {
          "output_type": "display_data",
          "data": {
            "text/plain": [
              "<Figure size 432x288 with 1 Axes>"
            ],
            "image/png": "[encoded data removed]"
          },
          "metadata": {
            "needs_background": "light"
          }
        }
      ],
      "source": [
        "import numpy as np\n",
        "import matplotlib.pyplot as plt\n",
        "\n",
        "def fitness(x):\n",
        "    return (x * x) + (x * x) - (x + x)\n",
        "\n",
        "\n",
        "class GEP(object):\n",
        "    def __init__(self, grammar, bounds, len_head, iterations, pop_size, prob_crossover):\n",
        "        self.grammar = grammar\n",
        "        self.bounds = bounds\n",
        "        self.len_head = len_head\n",
        "        self.len_tail = len_head * (len(grammar['TERM'])) + 1\n",
        "        self.iterations = iterations\n",
        "        self.pop_size = pop_size\n",
        "        self.prob_crossover = prob_crossover\n",
        "        self.population = [Individual(self.random_genome()) for _ in range(self.pop_size)]\n",
        "        self.best = sorted(self.population, key=lambda x: x.fitness)[0]\n",
        "\n",
        "    def binary_tournament(self):\n",
        "        a, b = np.random.choice(self.population, 2)\n",
        "        return a if a.fitness < b.fitness else b\n",
        "\n",
        "    def point_mutation(self, genome):\n",
        "        rate = 1.0 / len(genome)\n",
        "        child = list()\n",
        "        for i in range(len(genome)):\n",
        "            bit = genome[i]\n",
        "            if np.random.random() < rate:\n",
        "                if i < self.len_head:\n",
        "                    selection = self.grammar['FUNC'] if np.random.random() < 0.5 else self.grammar['TERM']\n",
        "                    bit = selection[np.random.randint(0, len(selection))]\n",
        "                else:\n",
        "                    bit = self.grammar['TERM'][np.random.randint(0, len(self.grammar['TERM']))]\n",
        "            child.append(bit)\n",
        "        return ''.join(child)\n",
        "\n",
        "    def crossover(self, parent1, parent2):\n",
        "        if np.random.random() < self.prob_crossover:\n",
        "            return ''.join([a if np.random.random() < 0.5 else b for a, b in zip(parent1, parent2)])\n",
        "        else:\n",
        "            return parent1\n",
        "\n",
        "    def reproduce(self, selected):\n",
        "        children = list()\n",
        "        for a, b in zip(selected[::2], selected[1::2]):\n",
        "            children.append(Individual(self.point_mutation(self.crossover(a.genome, b.genome))))\n",
        "        return children\n",
        "\n",
        "    def random_genome(self):\n",
        "        s = list()\n",
        "        for _ in range(self.len_head):\n",
        "            selection = self.grammar['FUNC'] if np.random.random() < 0.5 else self.grammar['TERM']\n",
        "            s.append(selection[np.random.randint(0, len(selection))])\n",
        "        for _ in range(self.len_tail):\n",
        "            s.append(self.grammar['TERM'][np.random.randint(0, len(self.grammar['TERM']))])\n",
        "        return ''.join(s)\n",
        "\n",
        "    def cost(program):\n",
        "        errors = 0.0\n",
        "        for x, y in TABLE:\n",
        "            expression = program.replace('x', str(x))\n",
        "            try:\n",
        "                score = eval(expression)\n",
        "            except ZeroDivisionError:\n",
        "                score = float('inf')\n",
        "            errors += abs(score - y)\n",
        "        if np.isnan(errors):\n",
        "            errors = float('inf')\n",
        "        return errors / len(TABLE)\n",
        "\n",
        "    def mapping(genome):\n",
        "        off = 0\n",
        "        queue = list()\n",
        "        root = {'node': genome[off]}\n",
        "        off += 1\n",
        "        queue.append(root)\n",
        "        while len(queue) > 0:\n",
        "            current = queue.pop(0)\n",
        "            if current['node'] in GRAMMAR['FUNC']:\n",
        "                current['left'] = {'node': genome[off]}\n",
        "                off += 1\n",
        "                queue.append(current['left'])\n",
        "                current['right'] = {'node': genome[off]}\n",
        "                off += 1\n",
        "                queue.append(current['right'])\n",
        "        return root\n",
        "\n",
        "    def tree_to_string(exp):\n",
        "        if 'left' not in exp or 'right' not in exp:\n",
        "            return exp['node']\n",
        "        left = GEP.tree_to_string(exp['left'])\n",
        "        right = GEP.tree_to_string(exp['right'])\n",
        "        if exp['node'] in ['+', '-', '*', '/']:\n",
        "            return '({0} {1} {2})'.format(left, exp['node'], right)\n",
        "        else:\n",
        "            func = {\n",
        "                'P': 'np.power',\n",
        "            }.get(exp['node'], None)\n",
        "            return '({0}({1}, {2}))'.format(func, left, right)\n",
        "\n",
        "    def run(self):\n",
        "        plotY = []\n",
        "        for gen in range(1, self.iterations + 1):\n",
        "            selected = [self.binary_tournament() for _ in range(self.pop_size)]\n",
        "            children = self.reproduce(selected)\n",
        "            children = list(sorted(children, key=lambda x: x.fitness))\n",
        "            self.best = children[0] if children[0].fitness <= self.best.fitness else self.best\n",
        "            self.population = sorted((children + self.population), key=lambda x: x.fitness)[:self.pop_size]\n",
        "            plotY.append(self.best.fitness)\n",
        "            if gen % 10 == 0:\n",
        "                print('{0}/{1} Current population:'.format(gen, self.iterations))\n",
        "                print(self.best)\n",
        "            if self.best.fitness == 0.0:\n",
        "                print('{0}/{1} Current population:'.format(gen, self.iterations))\n",
        "                print(self.best)\n",
        "                break\n",
        "        plt.plot(plotY)\n",
        "        plt.show()\n",
        "        return self.best\n",
        "\n",
        "\n",
        "class Individual(object):\n",
        "    def __init__(self, genome):\n",
        "        self.genome = genome\n",
        "        self.expression = GEP.mapping(genome)\n",
        "        self.program = GEP.tree_to_string(self.expression)\n",
        "        self.fitness = GEP.cost(self.program)\n",
        "\n",
        "    def __str__(self):\n",
        "        return '{0} = {1}'.format(self.program, self.fitness)\n",
        "\n",
        "\n",
        "GRAMMAR = {'FUNC': ['+', '-', '*', '/'], 'TERM': ['x']}\n",
        "BOUNDS = [1.0, 26.0]\n",
        "TABLE = [\n",
        "    [3.4, 2.64],\n",
        "    [5.4, 65.04],\n",
        "    [6.7, 122.76],\n",
        "    [8.2, 206.16],\n",
        "    [9.12, 266.2176],\n",
        "    [10.25, 349.25],\n",
        "    [12.34, 529.7424],\n",
        "    [21.43, 1721.26],\n",
        "    [23.76, 2133.11],\n",
        "    [25.32, 2433.13]\n",
        "]\n",
        "LEN_HEAD = 30\n",
        "ITERATIONS = 100\n",
        "POP_SIZE = 100\n",
        "PROB_CROSS = 0.85\n",
        "\n",
        "\n",
        "def main():\n",
        "    gep = GEP(GRAMMAR, BOUNDS, LEN_HEAD, ITERATIONS, POP_SIZE, PROB_CROSS)\n",
        "    gep.run()\n",
        "\n",
        "if __name__ == '__main__':\n",
        "    main()"
      ]
    },
    {
      "cell_type": "code",
      "source": [
        "def f(x):\n",
        "  return  (((x + ((x + x) / (x / (x - ((((((x + x) / x) - ((x - x) - x)) + (((x / x) + x) + (x / x))) + x) / x))))) + x) * x) # 4 * x * x + 3 * x + 4\n",
        "\n",
        "print(\"f(10) = \", f(10))\n",
        "print(\"f(20) = \", f(20))\n",
        "print(\"f(30) = \", f(30))"
      ],
      "metadata": {
        "colab": {
          "base_uri": "https://localhost:8080/"
        },
        "id": "XDx_q5sdkLhu",
        "outputId": "501d3f24-2130-4613-e3a2-9eb5b10868d1"
      },
      "execution_count": null,
      "outputs": [
        {
          "output_type": "stream",
          "name": "stdout",
          "text": [
            "f(10) =  332.0\n",
            "f(20) =  1472.0\n",
            "f(30) =  3412.0000000000005\n"
          ]
        }
      ]
    }
  ]
}