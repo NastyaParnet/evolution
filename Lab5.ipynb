{
  "nbformat": 4,
  "nbformat_minor": 0,
  "metadata": {
    "colab": {
      "provenance": [],
      "authorship_tag": "ABX9TyMh+v1gvzWfKLXw2cyP7wKF",
      "include_colab_link": true
    },
    "kernelspec": {
      "name": "python3",
      "display_name": "Python 3"
    },
    "language_info": {
      "name": "python"
    }
  },
  "cells": [
    {
      "cell_type": "markdown",
      "metadata": {
        "id": "view-in-github",
        "colab_type": "text"
      },
      "source": [
        "<a href=\"https://colab.research.google.com/github/NastyaParnet/evolution/blob/main/Lab5.ipynb\" target=\"_parent\"><img src=\"https://colab.research.google.com/assets/colab-badge.svg\" alt=\"Open In Colab\"/></a>"
      ]
    },
    {
      "cell_type": "code",
      "execution_count": null,
      "metadata": {
        "id": "xCpTMFfKXNnU"
      },
      "outputs": [],
      "source": [
        "import math\n",
        "import numpy\n",
        "import time\n",
        "from random import random\n",
        "import matplotlib.pyplot as plt\n",
        "\n",
        "def buta(x, y):\n",
        "    return (x + 2 * y - 7)**2 + (2 * x + y - 5)**2\n",
        "\n",
        "def bucina(x, y):\n",
        "    return 100*math.sqrt(abs(y-0.01*x*x)) + 0.01*abs(x+10)\n",
        "\n",
        "def maccormik(x, y):\n",
        "    return math.sin(x+y)+(x-y)**2-1.5*x+2.5*y+1"
      ]
    },
    {
      "cell_type": "code",
      "source": [
        "def startOneDimension(fitnessFunction, min, max, nIterations, stepSize, initT):\n",
        "    best = random() * (max-min) + min\n",
        "    bestE = fitnessFunction(best)\n",
        "    current = best\n",
        "    currentE = bestE\n",
        "\n",
        "    for i in range(nIterations):\n",
        "        candidate = current + (random() * 2 - 1) * stepSize\n",
        "        candidateE = fitnessFunction(candidate)\n",
        "\n",
        "        if candidateE < bestE:\n",
        "            best = candidate\n",
        "            bestE = candidateE\n",
        "            print(i+1, bestE)\n",
        "\n",
        "        deltaE = candidateE - currentE\n",
        "        t = initT / (i+1)\n",
        "        nu = math.exp(-deltaE / t)\n",
        "\n",
        "        if deltaE < 0 or math.random() < nu:\n",
        "            current = candidate\n",
        "            currentE = candidateE\n"
      ],
      "metadata": {
        "id": "A87WJWUFIIEC"
      },
      "execution_count": null,
      "outputs": []
    },
    {
      "cell_type": "code",
      "source": [
        "def startNDimensional(fitnessFunction, nDim, min, max, nIterations, stepSize, initT):\n",
        "    plotX = []\n",
        "    plotY = []\n",
        "    best = numpy.zeros(nDim)\n",
        "    for i in range(nDim):\n",
        "        best[i] = random() * (max - min) + min\n",
        "    bestE = fitnessFunction(best[0], best[1])\n",
        "    current = best\n",
        "    currentE = bestE\n",
        "\n",
        "    for i in range(nIterations):\n",
        "        candidate = numpy.zeros(nDim)\n",
        "        for j in range(nDim):\n",
        "            candidate[j] = current[j] + (random() * 2 - 1) * stepSize\n",
        "        candidateE = fitnessFunction(candidate[0], candidate[1])\n",
        "        if candidateE < bestE:\n",
        "            best = candidate\n",
        "            bestE = candidateE\n",
        "            # print(candidate, bestE)\n",
        "\n",
        "        deltaE = candidateE - currentE\n",
        "        t = initT / (i+1)\n",
        "        nu = math.exp(-deltaE / t)\n",
        "\n",
        "        if deltaE < 0 or random() < nu:\n",
        "            current = candidate\n",
        "            currentE = candidateE\n",
        "        \n",
        "        plotX.append(i+1)\n",
        "        plotY.append(bestE)\n",
        "\n",
        "    print(best, bestE)\n",
        "    # plt.plot(plotX, plotY)\n",
        "    # plt.show()\n"
      ],
      "metadata": {
        "id": "gsIwxGWWMi5R"
      },
      "execution_count": null,
      "outputs": []
    },
    {
      "cell_type": "code",
      "source": [
        "import time\n",
        "start_time = time.time()\n",
        "startNDimensional(maccormik, 3, -3, 4, 10000, 0.1, 10000)\n",
        "print(\"--- %s seconds ---\" % (time.time() - start_time))"
      ],
      "metadata": {
        "colab": {
          "base_uri": "https://localhost:8080/"
        },
        "id": "BGVE9WSVO2IP",
        "outputId": "cd94a346-2e0b-4062-8491-171ae4f0803f"
      },
      "execution_count": null,
      "outputs": [
        {
          "output_type": "stream",
          "name": "stdout",
          "text": [
            "[-6.80926001 -7.81736241 -6.444522  ] -8.19583455460288\n",
            "--- 0.05779623985290527 seconds ---\n"
          ]
        }
      ]
    }
  ]
}