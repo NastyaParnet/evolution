{
  "nbformat": 4,
  "nbformat_minor": 0,
  "metadata": {
    "colab": {
      "provenance": [],
      "authorship_tag": "ABX9TyOW0DKbNHMr/y4vD+b+R533",
      "include_colab_link": true
    },
    "kernelspec": {
      "name": "python3",
      "display_name": "Python 3"
    },
    "language_info": {
      "name": "python"
    }
  },
  "cells": [
    {
      "cell_type": "markdown",
      "metadata": {
        "id": "view-in-github",
        "colab_type": "text"
      },
      "source": [
        "<a href=\"https://colab.research.google.com/github/NastyaParnet/evolution/blob/main/Lab7.ipynb\" target=\"_parent\"><img src=\"https://colab.research.google.com/assets/colab-badge.svg\" alt=\"Open In Colab\"/></a>"
      ]
    },
    {
      "cell_type": "code",
      "execution_count": null,
      "metadata": {
        "id": "yDsFyNRfqBWM"
      },
      "outputs": [],
      "source": [
        "from random import random\n",
        "import matplotlib.pyplot as plt\n",
        "import math\n",
        "\n",
        "def normalRandom(min, max, skew):\n",
        "    u = 0\n",
        "    v = 0\n",
        "    while u == 0: \n",
        "      u = random()\n",
        "    while v == 0: \n",
        "      v = random()\n",
        "    num = math.sqrt(-2.0 * math.log(u)) * math.cos(2.0 * math.pi * v)\n",
        "    num = num / 10.0 + 0.5\n",
        "    if num > 1 or num < 0: \n",
        "      num = normalRandom(min, max, skew)\n",
        "    else:\n",
        "        num = math.pow(num, skew)\n",
        "        num *= max - min\n",
        "        num += min\n",
        "    return num\n",
        "\n",
        "def initializePopulation (n, min, max): \n",
        "    population = []\n",
        "    for i in range(n):\n",
        "        randomValue = random() * (max-min) + min\n",
        "        population.append(randomValue)\n",
        "    return population\n",
        "\n",
        "def generateHeirs(population, n, m, fitnessFunction):\n",
        "    PTest = []\n",
        "    for i in range(len(population)):\n",
        "        SL = 0;\n",
        "        SR = 0;\n",
        "        ML = 0;\n",
        "        MR = 0;\n",
        "        for j in range(m):\n",
        "            xji = normalRandom(population[i]-1, population[i]+1, 1)\n",
        "            if xji < population[i]:\n",
        "                SL += xji\n",
        "                ML += 1\n",
        "            else:\n",
        "                SR += xji\n",
        "                MR += 1\n",
        "        xL = (1 / (ML if ML else 1)) * SL\n",
        "        xR = (1 / (MR if MR else 1)) * SR\n",
        "\n",
        "        xH = xL if fitnessFunction(xL) > fitnessFunction(xR) else xR\n",
        "        PTest.append(xH)\n",
        "    return PTest\n",
        "\n",
        "def start(n, m, min, max, numberIteration, fitnessFunction):\n",
        "    dataSet = []\n",
        "    population = initializePopulation(n, min, max)\n",
        "    for i in range(numberIteration):\n",
        "        bestIndividual = population[0]\n",
        "        bestValue = fitnessFunction(bestIndividual)\n",
        "        for i in range(len(population)):\n",
        "            currentValue = fitnessFunction(population[i])\n",
        "            if currentValue > bestValue:\n",
        "                bestIndividual = population[i]\n",
        "                bestValue = currentValue\n",
        "        dataSet.append([bestIndividual, bestValue])\n",
        "        population = generateHeirs(population, n, m, fitnessFunction)\n",
        "    return dataSet\n"
      ]
    },
    {
      "cell_type": "code",
      "source": [
        "import time\n",
        "\n",
        "n = 10\n",
        "m = 7\n",
        "min = -10\n",
        "max = 10\n",
        "numberIteration = 20\n",
        "def fitnessFunction (x):\n",
        "  return -1 * x * x + 2 * x - 3\n",
        "\n",
        "def funcForSort(elem):\n",
        "  return elem[1]\n",
        "\n",
        "start_time = time.time()\n",
        "dataSet = start(n, m, min, max, numberIteration, fitnessFunction)\n",
        "print(\"--- %s seconds ---\" % (time.time() - start_time))\n",
        "plt.plot([x[1] for x in dataSet])\n",
        "plt.show() \n",
        "dataSet.sort(key=funcForSort, reverse=True)\n",
        "print(dataSet[0])"
      ],
      "metadata": {
        "colab": {
          "base_uri": "https://localhost:8080/",
          "height": 300
        },
        "id": "0gPOxGi0-IkP",
        "outputId": "3d199e17-d62c-4a80-b1c0-38db41db4a17"
      },
      "execution_count": null,
      "outputs": [
        {
          "output_type": "stream",
          "name": "stdout",
          "text": [
            "--- 0.008925914764404297 seconds ---\n"
          ]
        },
        {
          "output_type": "display_data",
          "data": {
            "text/plain": [
              "<Figure size 432x288 with 1 Axes>"
            ],
            "image/png": "[encoded data removed]"
          },
          "metadata": {
            "needs_background": "light"
          }
        },
        {
          "output_type": "stream",
          "name": "stdout",
          "text": [
            "[1.0004546903997653, -2.0000002067433593]\n"
          ]
        }
      ]
    }
  ]
}