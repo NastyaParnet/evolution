{
  "nbformat": 4,
  "nbformat_minor": 0,
  "metadata": {
    "colab": {
      "provenance": [],
      "authorship_tag": "ABX9TyN9zMsTLxISOOVMuOiGiLM6",
      "include_colab_link": true
    },
    "kernelspec": {
      "name": "python3",
      "display_name": "Python 3"
    },
    "language_info": {
      "name": "python"
    },
    "accelerator": "GPU",
    "gpuClass": "standard"
  },
  "cells": [
    {
      "cell_type": "markdown",
      "metadata": {
        "id": "view-in-github",
        "colab_type": "text"
      },
      "source": [
        "<a href=\"https://colab.research.google.com/github/NastyaParnet/evolution/blob/main/Lab10.ipynb\" target=\"_parent\"><img src=\"https://colab.research.google.com/assets/colab-badge.svg\" alt=\"Open In Colab\"/></a>"
      ]
    },
    {
      "cell_type": "code",
      "execution_count": null,
      "metadata": {
        "id": "p7TCXNblHoDg"
      },
      "outputs": [],
      "source": [
        "from random import random\n",
        "import matplotlib.pyplot as plt\n",
        "import math\n",
        "import time\n",
        "\n",
        "def normalRandom(min, max, skew):\n",
        "    u = 0\n",
        "    v = 0\n",
        "    while u == 0: \n",
        "      u = random()\n",
        "    while v == 0: \n",
        "      v = random()\n",
        "    num = math.sqrt(-2.0 * math.log(u)) * math.cos(2.0 * math.pi * v)\n",
        "    num = num / 10.0 + 0.5\n",
        "    if num > 1 or num < 0: \n",
        "      num = normalRandom(min, max, skew)\n",
        "    else:\n",
        "        num = math.pow(num, skew)\n",
        "        num *= max - min\n",
        "        num += min\n",
        "    return num\n",
        "\n",
        "def initializePopulation (n, minX, maxX, minY, maxY): \n",
        "    population = []\n",
        "    for i in range(n):\n",
        "        randomX = random() * (maxX-minX) + minX\n",
        "        randomY = random() * (maxY-minY) + minY\n",
        "        population.append([randomX, randomY])\n",
        "    return population\n",
        "\n",
        "def generateHeirs(population, n, fitnessFunction):\n",
        "    PTest = []\n",
        "    for i in range(len(population)):\n",
        "        SLX = 0\n",
        "        SRX = 0\n",
        "        MLX = 0\n",
        "        MRX = 0\n",
        "        SLY = 0\n",
        "        SRY = 0\n",
        "        MLY = 0\n",
        "        MRY = 0\n",
        "        for j in range(n):\n",
        "            xji = normalRandom(population[i][0]-1, population[i][0]+1, 1)\n",
        "            yji = normalRandom(population[i][1]-1, population[i][1]+1, 1)\n",
        "            if xji < population[i][0]:\n",
        "                SLX += xji\n",
        "                MLX += 1\n",
        "            else:\n",
        "                SRX += xji\n",
        "                MRX += 1\n",
        "            if yji < population[i][1]:\n",
        "                SLY += yji\n",
        "                MLY += 1\n",
        "            else:\n",
        "                SRY += yji\n",
        "                MRY += 1\n",
        "        xL = (1 / (MLX if MLX else 1)) * SLX\n",
        "        xR = (1 / (MRX if MRX else 1)) * SRX\n",
        "        yL = (1 / (MLY if MLY else 1)) * SLY\n",
        "        yR = (1 / (MRY if MRY else 1)) * SRY\n",
        "\n",
        "        yForXL = yL if fitnessFunction(xL, yL) < fitnessFunction(xL, yR) else yR\n",
        "        yForXR = yL if fitnessFunction(xR, yL) < fitnessFunction(xR, yR) else yR\n",
        "        xyH = [xL, yForXL] if fitnessFunction(xL, yForXL) < fitnessFunction(xR, yForXR) else [xR, yForXR]\n",
        "        PTest.append(xyH)\n",
        "    return PTest\n",
        "\n",
        "def start(n, minX, maxX, minY, maxY, numberIteration, fitnessFunction):\n",
        "    dataSet = []\n",
        "    population = initializePopulation(n, minX, maxX, minY, maxY)\n",
        "    for i in range(numberIteration):\n",
        "        bestIndividual = population[0]\n",
        "        bestValue = fitnessFunction(bestIndividual[0], bestIndividual[1])\n",
        "        for i in range(len(population)):\n",
        "            currentValue = fitnessFunction(population[i][0], population[i][1])\n",
        "            if currentValue < bestValue:\n",
        "                bestIndividual = population[i]\n",
        "                bestValue = currentValue\n",
        "        dataSet.append([bestIndividual, bestValue])\n",
        "        population = generateHeirs(population, n, fitnessFunction)\n",
        "    return dataSet"
      ]
    },
    {
      "cell_type": "code",
      "source": [
        "n = 100\n",
        "minX = -10\n",
        "maxX = 10\n",
        "minY = -10\n",
        "maxY = 10\n",
        "numberIteration = 10\n",
        "\n",
        "def buta(x, y):\n",
        "    return (x + 2 * y - 7)**2 + (2 * x + y - 5)**2\n",
        "\n",
        "def bucina(x, y):\n",
        "    return 100*math.sqrt(abs(y-0.01*x*x)) + 0.01*abs(x+10)\n",
        "\n",
        "def maccormik(x, y):\n",
        "    return math.sin(x+y)+(x-y)**2-1.5*x+2.5*y+1\n",
        "\n",
        "def funcForSort(elem):\n",
        "  return elem[1]\n",
        "\n",
        "start_time = time.time()\n",
        "dataSet = start(n, minX, maxX, minY, maxY, numberIteration, buta)\n",
        "print(\"--- %s seconds ---\" % (time.time() - start_time))\n",
        "plt.plot([x[1] for x in dataSet])\n",
        "plt.show() \n",
        "dataSet.sort(key=funcForSort, reverse=True)\n",
        "print(dataSet[0])\n"
      ],
      "metadata": {
        "id": "H9e9BOM8LkPb",
        "colab": {
          "base_uri": "https://localhost:8080/",
          "height": 300
        },
        "outputId": "00f31adb-946a-414f-913d-3d7e61ed9b4a"
      },
      "execution_count": null,
      "outputs": [
        {
          "output_type": "stream",
          "name": "stdout",
          "text": [
            "--- 0.28975367546081543 seconds ---\n"
          ]
        },
        {
          "output_type": "display_data",
          "data": {
            "text/plain": [
              "<Figure size 432x288 with 1 Axes>"
            ],
            "image/png": "[encoded data removed]"
          },
          "metadata": {
            "needs_background": "light"
          }
        },
        {
          "output_type": "stream",
          "name": "stdout",
          "text": [
            "[[-0.38117649500943784, 3.7922474673301902], 3.9226541584305528]\n"
          ]
        }
      ]
    }
  ]
}